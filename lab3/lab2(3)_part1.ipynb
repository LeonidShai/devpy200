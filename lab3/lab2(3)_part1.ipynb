{
 "cells": [
  {
   "cell_type": "code",
   "execution_count": 99,
   "metadata": {},
   "outputs": [],
   "source": [
    "# task 1. Реализуйте с помощью @property константный атрибут.\n",
    "# Пусть класс возвращает число пи.\n",
    "# Попытайтесь применить @property к @staticmethod и @classmethod.\n",
    "\n",
    "class Pi:\n",
    "    def __init__(self):\n",
    "        self.__pi = None\n",
    "        self.__r = None\n",
    "\n",
    "    def __str__(self):\n",
    "        return f\"{self.value}, radius: {self.__r}\"\n",
    "        \n",
    "    @classmethod\n",
    "    def __is_value(cls, val):\n",
    "        \"\"\"\n",
    "        Проверка правильности ввода\n",
    "        param val: int\n",
    "        return: TypeError or int\n",
    "        \"\"\"\n",
    "        if not isinstance(val, int):\n",
    "            raise TypeError\n",
    "        else:\n",
    "            return val\n",
    "        \n",
    "    @property\n",
    "    def value(self):\n",
    "        self.__pi = 3.14\n",
    "        return self.__pi\n",
    "    \n",
    "    @property\n",
    "    def radius(self):\n",
    "        return self.__r\n",
    "    \n",
    "    @radius.setter\n",
    "    def radius(self, rad):\n",
    "        rad = self.__is_value(rad)\n",
    "        self.__r = rad\n",
    "    \n",
    "    @staticmethod\n",
    "    def pow_ring(r):\n",
    "        \"\"\"\n",
    "        Считает квадрат числа\n",
    "        param r: int\n",
    "        return: int\n",
    "        \"\"\"\n",
    "        r = Pi.__is_value(r)\n",
    "        return r * r\n",
    "    \n",
    "    def square_ring(self):\n",
    "        \"\"\"\n",
    "        Вычисление площади круга\n",
    "        return: int\n",
    "        \"\"\"\n",
    "        return f\"Площадь круга: {self.pow_ring(self.radius) * self.value}\""
   ]
  },
  {
   "cell_type": "code",
   "execution_count": 100,
   "metadata": {},
   "outputs": [
    {
     "name": "stdout",
     "output_type": "stream",
     "text": [
      "{'_Pi__pi': None, '_Pi__r': None}\n",
      "3.14, radius: None\n",
      "{'_Pi__pi': 3.14, '_Pi__r': None}\n",
      "25\n",
      "Площадь круга: 78.5\n"
     ]
    }
   ],
   "source": [
    "p = Pi()\n",
    "print(p.__dict__)\n",
    "p.value\n",
    "print(p)\n",
    "print(p.__dict__)\n",
    "print(p.pow_ring(5))\n",
    "p.radius = 5\n",
    "print(p.square_ring())"
   ]
  },
  {
   "cell_type": "code",
   "execution_count": null,
   "metadata": {},
   "outputs": [],
   "source": [
    "# применить @property к @staticmethod и @classmethod не получается.\n",
    "# В обоих случаях выводится ошибка: TypeError: object is not callable"
   ]
  },
  {
   "cell_type": "code",
   "execution_count": null,
   "metadata": {},
   "outputs": [],
   "source": [
    "# task 2. Создайте классы A и B(A). a.\n",
    "# В классе А создайте атрибуты класса, атрибуты объекта,\n",
    "# @staticmethod, @classmethod и методов со всеми видами областями видимости. b.\n",
    "# Продемонстрируете их видимость внутри класса, вне класса и в классе потомке. c.\n",
    "# Получите доступ вне класса к псевдозащищённым псевдоприватным атрибутам и методам."
   ]
  },
  {
   "cell_type": "code",
   "execution_count": 2,
   "metadata": {},
   "outputs": [],
   "source": [
    "class A:\n",
    "    public_count = \"public class attr\"\n",
    "    _protected_count = \"protected class attr\"\n",
    "    __private_attr = \"private class attr\"\n",
    "    \n",
    "    def __init__(self):\n",
    "        self.public = \"public class attr origin\"\n",
    "        self._protected = \"protected class attr origin\"\n",
    "        self.__private = \"private class attr origin\"\n",
    "        print(f\"{self.public}\")\n",
    "        print(f\"{self._protected}\")\n",
    "        print(f\"{self.__private}\")\n",
    "    \n",
    "    def public_method(self):\n",
    "        print(\"public object method\")\n",
    "        \n",
    "    def _protected_method(self):\n",
    "        print(\"protected object method\")\n",
    "        \n",
    "    def __private_method(self):\n",
    "        print(\"private object method\")\n",
    "        \n",
    "    @classmethod\n",
    "    def public_classmethod(self):\n",
    "        print(\"public classmethod\")\n",
    "    \n",
    "    @classmethod\n",
    "    def _protected_classmethod(self):\n",
    "        print(\"protected classmethod\")\n",
    "    \n",
    "    @classmethod\n",
    "    def __private_classmethod(self):\n",
    "        print(\"private classmethod\")\n",
    "        \n",
    "    @staticmethod\n",
    "    def public_staticmethod():\n",
    "        print(\"public staticmethod\")\n",
    "    \n",
    "    @staticmethod\n",
    "    def _protected_staticmethod():\n",
    "        print(\"protected staticmethod\")\n",
    "    \n",
    "    @staticmethod\n",
    "    def __private_staticmethod():\n",
    "        print(\"private staticmethod\")       "
   ]
  },
  {
   "cell_type": "code",
   "execution_count": 3,
   "metadata": {},
   "outputs": [],
   "source": [
    "class B(A):\n",
    "    def __init__(self):\n",
    "        super().__init__()\n",
    "        self.a = \"public class B attr origin\"\n",
    "        print(self.a)"
   ]
  },
  {
   "cell_type": "code",
   "execution_count": 4,
   "metadata": {},
   "outputs": [
    {
     "name": "stdout",
     "output_type": "stream",
     "text": [
      "public class attr origin\n",
      "protected class attr origin\n",
      "private class attr origin\n",
      "public class B attr origin\n"
     ]
    }
   ],
   "source": [
    "c = B()"
   ]
  },
  {
   "cell_type": "code",
   "execution_count": 47,
   "metadata": {},
   "outputs": [
    {
     "data": {
      "text/plain": [
       "'public class attr'"
      ]
     },
     "execution_count": 47,
     "metadata": {},
     "output_type": "execute_result"
    }
   ],
   "source": [
    "c.public_count"
   ]
  },
  {
   "cell_type": "code",
   "execution_count": 48,
   "metadata": {},
   "outputs": [
    {
     "data": {
      "text/plain": [
       "'protected class attr'"
      ]
     },
     "execution_count": 48,
     "metadata": {},
     "output_type": "execute_result"
    }
   ],
   "source": [
    "c._protected_count"
   ]
  },
  {
   "cell_type": "code",
   "execution_count": 49,
   "metadata": {},
   "outputs": [
    {
     "ename": "AttributeError",
     "evalue": "'B' object has no attribute '__private_count'",
     "output_type": "error",
     "traceback": [
      "\u001b[0;31m---------------------------------------------------------------------------\u001b[0m",
      "\u001b[0;31mAttributeError\u001b[0m                            Traceback (most recent call last)",
      "\u001b[0;32m<ipython-input-49-19788273780a>\u001b[0m in \u001b[0;36m<module>\u001b[0;34m\u001b[0m\n\u001b[0;32m----> 1\u001b[0;31m \u001b[0mc\u001b[0m\u001b[0;34m.\u001b[0m\u001b[0m__private_count\u001b[0m\u001b[0;34m\u001b[0m\u001b[0;34m\u001b[0m\u001b[0m\n\u001b[0m\u001b[1;32m      2\u001b[0m \u001b[0;31m#нельзя обратиться: AttributeError: 'B' object has no attribute '__private_count'\u001b[0m\u001b[0;34m\u001b[0m\u001b[0;34m\u001b[0m\u001b[0;34m\u001b[0m\u001b[0m\n",
      "\u001b[0;31mAttributeError\u001b[0m: 'B' object has no attribute '__private_count'"
     ]
    }
   ],
   "source": [
    "c.__private_count\n",
    "#нельзя обратиться: AttributeError: 'B' object has no attribute '__private_count'"
   ]
  },
  {
   "cell_type": "code",
   "execution_count": 35,
   "metadata": {},
   "outputs": [
    {
     "name": "stdout",
     "output_type": "stream",
     "text": [
      "public object method\n"
     ]
    }
   ],
   "source": [
    "c.public_method()"
   ]
  },
  {
   "cell_type": "code",
   "execution_count": 36,
   "metadata": {},
   "outputs": [
    {
     "name": "stdout",
     "output_type": "stream",
     "text": [
      "protected object method\n"
     ]
    }
   ],
   "source": [
    "c._protected_method()"
   ]
  },
  {
   "cell_type": "code",
   "execution_count": 37,
   "metadata": {},
   "outputs": [
    {
     "ename": "AttributeError",
     "evalue": "'B' object has no attribute '__private_method'",
     "output_type": "error",
     "traceback": [
      "\u001b[0;31m---------------------------------------------------------------------------\u001b[0m",
      "\u001b[0;31mAttributeError\u001b[0m                            Traceback (most recent call last)",
      "\u001b[0;32m<ipython-input-37-ca26947f3abe>\u001b[0m in \u001b[0;36m<module>\u001b[0;34m\u001b[0m\n\u001b[0;32m----> 1\u001b[0;31m \u001b[0mc\u001b[0m\u001b[0;34m.\u001b[0m\u001b[0m__private_method\u001b[0m\u001b[0;34m(\u001b[0m\u001b[0;34m)\u001b[0m\u001b[0;34m\u001b[0m\u001b[0;34m\u001b[0m\u001b[0m\n\u001b[0m\u001b[1;32m      2\u001b[0m \u001b[0;31m# AttributeError: 'B' object has no attribute '__private_method'\u001b[0m\u001b[0;34m\u001b[0m\u001b[0;34m\u001b[0m\u001b[0;34m\u001b[0m\u001b[0m\n",
      "\u001b[0;31mAttributeError\u001b[0m: 'B' object has no attribute '__private_method'"
     ]
    }
   ],
   "source": [
    "c.__private_method()\n",
    "# AttributeError: 'B' object has no attribute '__private_method'"
   ]
  },
  {
   "cell_type": "code",
   "execution_count": 38,
   "metadata": {},
   "outputs": [
    {
     "name": "stdout",
     "output_type": "stream",
     "text": [
      "public classmethod\n"
     ]
    }
   ],
   "source": [
    "c.public_classmethod()"
   ]
  },
  {
   "cell_type": "code",
   "execution_count": 42,
   "metadata": {},
   "outputs": [
    {
     "name": "stdout",
     "output_type": "stream",
     "text": [
      "protected classmethod\n"
     ]
    }
   ],
   "source": [
    "c._protected_classmethod()"
   ]
  },
  {
   "cell_type": "code",
   "execution_count": 40,
   "metadata": {},
   "outputs": [
    {
     "ename": "AttributeError",
     "evalue": "'B' object has no attribute '__private_classmethod'",
     "output_type": "error",
     "traceback": [
      "\u001b[0;31m---------------------------------------------------------------------------\u001b[0m",
      "\u001b[0;31mAttributeError\u001b[0m                            Traceback (most recent call last)",
      "\u001b[0;32m<ipython-input-40-4105569492cb>\u001b[0m in \u001b[0;36m<module>\u001b[0;34m\u001b[0m\n\u001b[0;32m----> 1\u001b[0;31m \u001b[0mc\u001b[0m\u001b[0;34m.\u001b[0m\u001b[0m__private_classmethod\u001b[0m\u001b[0;34m(\u001b[0m\u001b[0;34m)\u001b[0m\u001b[0;34m\u001b[0m\u001b[0;34m\u001b[0m\u001b[0m\n\u001b[0m\u001b[1;32m      2\u001b[0m \u001b[0;31m# AttributeError: 'B' object has no attribute '__private_classmethod'\u001b[0m\u001b[0;34m\u001b[0m\u001b[0;34m\u001b[0m\u001b[0;34m\u001b[0m\u001b[0m\n",
      "\u001b[0;31mAttributeError\u001b[0m: 'B' object has no attribute '__private_classmethod'"
     ]
    }
   ],
   "source": [
    "c.__private_classmethod()\n",
    "# AttributeError: 'B' object has no attribute '__private_classmethod'"
   ]
  },
  {
   "cell_type": "code",
   "execution_count": 41,
   "metadata": {},
   "outputs": [
    {
     "name": "stdout",
     "output_type": "stream",
     "text": [
      "public staticmethod\n"
     ]
    }
   ],
   "source": [
    "c.public_staticmethod()"
   ]
  },
  {
   "cell_type": "code",
   "execution_count": 43,
   "metadata": {},
   "outputs": [
    {
     "name": "stdout",
     "output_type": "stream",
     "text": [
      "protected staticmethod\n"
     ]
    }
   ],
   "source": [
    "c._protected_staticmethod()"
   ]
  },
  {
   "cell_type": "code",
   "execution_count": 44,
   "metadata": {},
   "outputs": [
    {
     "ename": "AttributeError",
     "evalue": "'B' object has no attribute '__private_staticmethod'",
     "output_type": "error",
     "traceback": [
      "\u001b[0;31m---------------------------------------------------------------------------\u001b[0m",
      "\u001b[0;31mAttributeError\u001b[0m                            Traceback (most recent call last)",
      "\u001b[0;32m<ipython-input-44-36fe3a9e100b>\u001b[0m in \u001b[0;36m<module>\u001b[0;34m\u001b[0m\n\u001b[0;32m----> 1\u001b[0;31m \u001b[0mc\u001b[0m\u001b[0;34m.\u001b[0m\u001b[0m__private_staticmethod\u001b[0m\u001b[0;34m(\u001b[0m\u001b[0;34m)\u001b[0m\u001b[0;34m\u001b[0m\u001b[0;34m\u001b[0m\u001b[0m\n\u001b[0m",
      "\u001b[0;31mAttributeError\u001b[0m: 'B' object has no attribute '__private_staticmethod'"
     ]
    }
   ],
   "source": [
    "c.__private_staticmethod()\n",
    "# AttributeError: 'B' object has no attribute '__private_staticmethod'"
   ]
  },
  {
   "cell_type": "code",
   "execution_count": 5,
   "metadata": {},
   "outputs": [
    {
     "name": "stdout",
     "output_type": "stream",
     "text": [
      "(<class '__main__.B'>, <class '__main__.A'>, <class 'object'>)\n"
     ]
    }
   ],
   "source": [
    "print(B.__mro__)"
   ]
  },
  {
   "cell_type": "code",
   "execution_count": null,
   "metadata": {},
   "outputs": [],
   "source": []
  }
 ],
 "metadata": {
  "kernelspec": {
   "display_name": "Python 3",
   "language": "python",
   "name": "python3"
  },
  "language_info": {
   "codemirror_mode": {
    "name": "ipython",
    "version": 3
   },
   "file_extension": ".py",
   "mimetype": "text/x-python",
   "name": "python",
   "nbconvert_exporter": "python",
   "pygments_lexer": "ipython3",
   "version": "3.7.4"
  }
 },
 "nbformat": 4,
 "nbformat_minor": 2
}
